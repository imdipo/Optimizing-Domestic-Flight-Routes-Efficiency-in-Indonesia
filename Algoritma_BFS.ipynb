{
  "nbformat": 4,
  "nbformat_minor": 0,
  "metadata": {
    "colab": {
      "provenance": []
    },
    "kernelspec": {
      "name": "python3",
      "display_name": "Python 3"
    },
    "language_info": {
      "name": "python"
    }
  },
  "cells": [
    {
      "cell_type": "code",
      "execution_count": 1,
      "metadata": {
        "colab": {
          "base_uri": "https://localhost:8080/"
        },
        "id": "FLhaUhp_nrU4",
        "outputId": "4d36d414-ff0c-41b8-beda-3d2061d19d2e"
      },
      "outputs": [
        {
          "output_type": "stream",
          "name": "stdout",
          "text": [
            "['A', 'B', 'D']\n"
          ]
        }
      ],
      "source": [
        "from collections import deque\n",
        "\n",
        "def bfs_shortest_path(graph, start, goal):\n",
        "    queue = deque([[start]])\n",
        "    visited = set()\n",
        "\n",
        "    while queue:\n",
        "        path = queue.popleft()\n",
        "        node = path[-1]\n",
        "\n",
        "        if node in visited:\n",
        "            continue\n",
        "\n",
        "        for neighbor in graph[node]:\n",
        "            new_path = list(path)\n",
        "            new_path.append(neighbor)\n",
        "            queue.append(new_path)\n",
        "\n",
        "            if neighbor == goal:\n",
        "                return new_path\n",
        "\n",
        "        visited.add(node)\n",
        "\n",
        "    return None  # Return None if no path is found\n",
        "\n",
        "# Contoh penggunaan\n",
        "graph = {\n",
        "    'A': ['B', 'C'],\n",
        "    'B': ['C', 'D'],\n",
        "    'C': ['D'],\n",
        "    'D': ['C'],\n",
        "    'E': ['F'],\n",
        "    'F': ['C']\n",
        "}\n",
        "\n",
        "start = 'A'\n",
        "goal = 'D'\n",
        "path = bfs_shortest_path(graph, start, goal)\n",
        "print(path)  # Output: ['A', 'B', 'D']\n"
      ]
    }
  ]
}